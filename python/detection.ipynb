{
 "cells": [
  {
   "cell_type": "markdown",
   "metadata": {},
   "source": [
    "# Detection of metabolites in complex mixtures and perhaps cuantification based on Convolutional Neural Networks\n",
    "\n",
    "By: Andrés M. Castillo\n",
    "\n",
    "We have created a synthetic dataset of complex mixtures containing up to 92 small molecules. Each sample is a random mixture of these 92 molecules. Each of them having a random concentration  x ~ N(1, 0,5). No negative concentrations are allowed, so the distributions is truncated for x < 0. "
   ]
  },
  {
   "cell_type": "code",
   "execution_count": null,
   "metadata": {},
   "outputs": [],
   "source": [
    "import "
   ]
  }
 ],
 "metadata": {
  "kernelspec": {
   "display_name": "Python 3",
   "language": "python",
   "name": "python3"
  },
  "language_info": {
   "codemirror_mode": {
    "name": "ipython",
    "version": 3
   },
   "file_extension": ".py",
   "mimetype": "text/x-python",
   "name": "python",
   "nbconvert_exporter": "python",
   "pygments_lexer": "ipython3",
   "version": "3.7.5"
  }
 },
 "nbformat": 4,
 "nbformat_minor": 4
}
